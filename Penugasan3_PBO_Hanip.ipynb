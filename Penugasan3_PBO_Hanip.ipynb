{
  "nbformat": 4,
  "nbformat_minor": 0,
  "metadata": {
    "colab": {
      "provenance": [],
      "authorship_tag": "ABX9TyNzyfUmq99aWsSkqK1z8Ut+",
      "include_colab_link": true
    },
    "kernelspec": {
      "name": "python3",
      "display_name": "Python 3"
    },
    "language_info": {
      "name": "python"
    }
  },
  "cells": [
    {
      "cell_type": "markdown",
      "metadata": {
        "id": "view-in-github",
        "colab_type": "text"
      },
      "source": [
        "<a href=\"https://colab.research.google.com/github/kotaksuusu/2025_PBO_TI1A_12/blob/main/Penugasan3_PBO_Hanip.ipynb\" target=\"_parent\"><img src=\"https://colab.research.google.com/assets/colab-badge.svg\" alt=\"Open In Colab\"/></a>"
      ]
    },
    {
      "cell_type": "code",
      "execution_count": 2,
      "metadata": {
        "colab": {
          "base_uri": "https://localhost:8080/"
        },
        "id": "BFsLshoNF4m1",
        "outputId": "88ea8ba5-ef0b-42ce-8214-fbfe4223ddbe"
      },
      "outputs": [
        {
          "output_type": "stream",
          "name": "stdout",
          "text": [
            "Nama Mahasiswa: Kevin\n",
            "Nilai: 85\n",
            "Grade: B\n",
            "\n",
            "Nama Mahasiswa: Kevin\n",
            "Nilai: 92\n",
            "Grade: A\n",
            "\n",
            "Nilai harus antara 0 sampai 100.\n",
            "Data mahasiswa Kevin telah dihapus dari sistem.\n"
          ]
        }
      ],
      "source": [
        "class Student:\n",
        "    def __init__(self, name, score):\n",
        "        \"\"\"\n",
        "        Konstruktor untuk menginisialisasi objek Student dengan nama dan skor.\n",
        "        Juga menentukan grade berdasarkan skor.\n",
        "        \"\"\"\n",
        "        self.__name = name\n",
        "        self.__score = 0  # inisialisasi sementara, akan di-set lewat setter\n",
        "        self.__grade = ''\n",
        "        self.score = score  # Gunakan setter agar validasi dan update grade berjalan\n",
        "\n",
        "    @property\n",
        "    def name(self):\n",
        "        \"\"\"Getter untuk nama.\"\"\"\n",
        "        return self.__name\n",
        "\n",
        "    @name.setter\n",
        "    def name(self, value):\n",
        "        \"\"\"Setter untuk nama, tidak ada validasi khusus.\"\"\"\n",
        "        self.__name = value\n",
        "\n",
        "    @property\n",
        "    def score(self):\n",
        "        \"\"\"Getter untuk nilai/skor.\"\"\"\n",
        "        return self.__score\n",
        "\n",
        "    @score.setter\n",
        "    def score(self, value):\n",
        "        \"\"\"\n",
        "        Setter untuk skor. Hanya menerima nilai antara 0 sampai 100.\n",
        "        Juga secara otomatis memperbarui grade.\n",
        "        \"\"\"\n",
        "        if 0 <= value <= 100:\n",
        "            self.__score = value\n",
        "            self.__update_grade()\n",
        "        else:\n",
        "            print(\"Nilai harus antara 0 sampai 100.\")\n",
        "\n",
        "    def __update_grade(self):\n",
        "        \"\"\"Method internal untuk menghitung grade berdasarkan nilai.\"\"\"\n",
        "        if self.__score >= 90:\n",
        "            self.__grade = 'A'\n",
        "        elif self.__score >= 80:\n",
        "            self.__grade = 'B'\n",
        "        elif self.__score >= 70:\n",
        "            self.__grade = 'C'\n",
        "        elif self.__score >= 60:\n",
        "            self.__grade = 'D'\n",
        "        else:\n",
        "            self.__grade = 'E'\n",
        "\n",
        "    def show_info(self):\n",
        "        \"\"\"Menampilkan informasi lengkap mahasiswa.\"\"\"\n",
        "        print(f\"Nama Mahasiswa: {self.__name}\")\n",
        "        print(f\"Nilai: {self.__score}\")\n",
        "        print(f\"Grade: {self.__grade}\")\n",
        "\n",
        "    def __del__(self):\n",
        "        \"\"\"Destruktor untuk memberitahukan bahwa data mahasiswa telah dihapus.\"\"\"\n",
        "        print(f\"Data mahasiswa {self.__name} telah dihapus dari sistem.\")\n",
        "\n",
        "\n",
        "# Contoh penggunaan\n",
        "def main():\n",
        "    mahasiswa1 = Student(\"Kevin\", 85)\n",
        "    mahasiswa1.show_info()\n",
        "    print()\n",
        "\n",
        "    mahasiswa1.score = 92  # update nilai dan otomatis update grade\n",
        "    mahasiswa1.show_info()\n",
        "    print()\n",
        "\n",
        "    mahasiswa1.score = 105  # tidak valid, tidak mengubah nilai\n",
        "\n",
        "    # Penghapusan objek (pemanggilan destruktor)\n",
        "    del mahasiswa1\n",
        "\n",
        "\n",
        "if __name__ == \"__main__\":\n",
        "    main()\n"
      ]
    }
  ]
}