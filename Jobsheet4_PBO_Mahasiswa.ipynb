{
  "nbformat": 4,
  "nbformat_minor": 0,
  "metadata": {
    "colab": {
      "provenance": [],
      "authorship_tag": "ABX9TyOKssUXVWN1RQxIsHtAam1Y",
      "include_colab_link": true
    },
    "kernelspec": {
      "name": "python3",
      "display_name": "Python 3"
    },
    "language_info": {
      "name": "python"
    }
  },
  "cells": [
    {
      "cell_type": "markdown",
      "metadata": {
        "id": "view-in-github",
        "colab_type": "text"
      },
      "source": [
        "<a href=\"https://colab.research.google.com/github/kotaksuusu/2025_PBO_TI1A_12/blob/main/Jobsheet4_PBO_Mahasiswa.ipynb\" target=\"_parent\"><img src=\"https://colab.research.google.com/assets/colab-badge.svg\" alt=\"Open In Colab\"/></a>"
      ]
    },
    {
      "cell_type": "code",
      "execution_count": 4,
      "metadata": {
        "colab": {
          "base_uri": "https://localhost:8080/"
        },
        "id": "f5eL0M8g93xd",
        "outputId": "2634f1b4-06e9-4d91-c4c7-c2bcf99b32cf"
      },
      "outputs": [
        {
          "output_type": "stream",
          "name": "stdout",
          "text": [
            "=== Mahasiswa Sarjana ===\n",
            "Nama: Ahmad\n",
            "NIM: 123456\n",
            "IPK: 3.8\n",
            "Semester: 6\n",
            "SKS Lulus: 110\n",
            "Predikat: Dengan Pujian\n",
            "\n",
            "=== Mahasiswa Magister ===\n",
            "Nama: Akbar\n",
            "NIM: 789101\n",
            "IPK: 3.6\n",
            "Judul Tesis: Analisis Data Mahasiswa\n",
            "Pembimbing: Dr. Sinta\n",
            "Predikat (Magister): Sangat Memuaskan\n"
          ]
        }
      ],
      "source": [
        "class Mahasiswa:\n",
        "    def __init__(self, nama, nim, ipk):\n",
        "        self.nama = nama\n",
        "        self.nim = nim\n",
        "        self.ipk = ipk\n",
        "\n",
        "    def tampilkan_info(self):\n",
        "        print(f\"Nama: {self.nama}\")\n",
        "        print(f\"NIM: {self.nim}\")\n",
        "        print(f\"IPK: {self.ipk}\")\n",
        "\n",
        "    def hitung_predikat(self):\n",
        "        if self.ipk >= 3.5:\n",
        "            predikat = \"Dengan Pujian\"\n",
        "        elif self.ipk >= 3.0:\n",
        "            predikat = \"Sangat Memuaskan\"\n",
        "        elif self.ipk >= 2.5:\n",
        "            predikat = \"Memuaskan\"\n",
        "        else:\n",
        "            predikat = \"Cukup\"\n",
        "        print(f\"Predikat: {predikat}\")\n",
        "\n",
        "\n",
        "class MahasiswaSarjana(Mahasiswa):\n",
        "    def __init__(self, nama, nim, ipk, semester, sks_lulus):\n",
        "        super().__init__(nama, nim, ipk)\n",
        "        self.semester = semester\n",
        "        self.sks_lulus = sks_lulus\n",
        "\n",
        "    def tampilkan_info(self):\n",
        "        super().tampilkan_info()\n",
        "        print(f\"Semester: {self.semester}\")\n",
        "        print(f\"SKS Lulus: {self.sks_lulus}\")\n",
        "\n",
        "\n",
        "class MahasiswaMagister(Mahasiswa):\n",
        "    def __init__(self, nama, nim, ipk, judul_tesis, nama_pembimbing):\n",
        "        super().__init__(nama, nim, ipk)\n",
        "        self.judul_tesis = judul_tesis\n",
        "        self.nama_pembimbing = nama_pembimbing\n",
        "\n",
        "    def tampilkan_info(self):\n",
        "        super().tampilkan_info()\n",
        "        print(f\"Judul Tesis: {self.judul_tesis}\")\n",
        "        print(f\"Pembimbing: {self.nama_pembimbing}\")\n",
        "\n",
        "    def hitung_predikat(self):\n",
        "        # Misal predikat lebih ketat untuk magister\n",
        "        if self.ipk >= 3.7:\n",
        "            predikat = \"Dengan Pujian\"\n",
        "        elif self.ipk >= 3.3:\n",
        "            predikat = \"Sangat Memuaskan\"\n",
        "        elif self.ipk >= 3.0:\n",
        "            predikat = \"Memuaskan\"\n",
        "        else:\n",
        "            predikat = \"Cukup\"\n",
        "        print(f\"Predikat (Magister): {predikat}\")\n",
        "\n",
        "\n",
        "# --- Contoh Penggunaan ---\n",
        "if __name__ == \"__main__\":\n",
        "    mhs1 = MahasiswaSarjana(\"Ahmad\", \"123456\", 3.8, 6, 110)\n",
        "    mhs2 = MahasiswaMagister(\"Akbar\", \"789101\", 3.6, \"Analisis Data Mahasiswa\", \"Dr. Sinta\")\n",
        "\n",
        "    print(\"=== Mahasiswa Sarjana ===\")\n",
        "    mhs1.tampilkan_info()\n",
        "    mhs1.hitung_predikat()\n",
        "\n",
        "    print(\"\\n=== Mahasiswa Magister ===\")\n",
        "    mhs2.tampilkan_info()\n",
        "    mhs2.hitung_predikat()\n"
      ]
    }
  ]
}