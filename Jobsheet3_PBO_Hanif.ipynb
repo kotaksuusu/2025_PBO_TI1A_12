{
  "nbformat": 4,
  "nbformat_minor": 0,
  "metadata": {
    "colab": {
      "provenance": [],
      "authorship_tag": "ABX9TyNSMrwotM3BlUNIVyJSKP6g",
      "include_colab_link": true
    },
    "kernelspec": {
      "name": "python3",
      "display_name": "Python 3"
    },
    "language_info": {
      "name": "python"
    }
  },
  "cells": [
    {
      "cell_type": "markdown",
      "metadata": {
        "id": "view-in-github",
        "colab_type": "text"
      },
      "source": [
        "<a href=\"https://colab.research.google.com/github/kotaksuusu/2025_PBO_TI1A_12/blob/main/Jobsheet3_PBO_Hanif.ipynb\" target=\"_parent\"><img src=\"https://colab.research.google.com/assets/colab-badge.svg\" alt=\"Open In Colab\"/></a>"
      ]
    },
    {
      "cell_type": "code",
      "source": [
        "class BankAccount:\n",
        "  def __init__(self, owner, balance):\n",
        "    #Atribut dengan (__) dianggap private di python\n",
        "    self.__owner = owner\n",
        "    self.__balance = balance\n",
        "\n",
        "  def deposit(self, amount):\n",
        "    #Method Untuk Menambahkan Saldo\n",
        "    if amount > 0:\n",
        "      self.__balance += amount\n",
        "      print(f\"(amount) telah ditambahkan ke akun {self.__owner}.\")\n",
        "    else:\n",
        "      print(\"Jumlah deposit harus lebih besar dari 0.\")\n",
        "\n",
        "  def withdraw(self, amount):\n",
        "    #Penarikan Saldo\n",
        "    if amount <= self.__balance:\n",
        "      self.__balance -= amount\n",
        "      print(f\"{amount} telah ditambahkan ke akun {self.__owner}.\")\n",
        "    else :\n",
        "      print(\"Saldo tidak cukup.\")\n",
        "\n",
        "  def get_balance (self):\n",
        "     #Mendapatkan Informasi Saldo Terkini\n",
        "     return self.__balance\n",
        "\n",
        "if __name__ == \"__main__\":\n",
        "\n",
        "  #Membuat objek bankaccount dengan owner=\"Alice\" dan balance awal 1000\n",
        "  alice_account = BankAccount (owner =\"Alice\", balance =1000)\n",
        "\n",
        "  #Depo Uang\n",
        "  alice_account.deposit(500)        #Berhasil\n",
        "  alice_account.deposit(-100)       #Gagal (validasi)\n",
        "\n",
        "  #Tarik Uang\n",
        "  alice_account.withdraw(300)       #Berhasil\n",
        "  alice_account.withdraw(2000)      #Gagal (saldo tidak cukup)\n",
        "\n",
        "  #Cek Informasi Terkini\n",
        "  current_balance = alice_account.get_balance()\n",
        "  print(f\"Saldo terakhir di akun {alice_account._BankAccount__owner}:{current_balance}\")\n",
        "\n",
        "  #Mencoba akses atribut 'private' langsung (tidak direkomendasikan)\n",
        "  #alice_account.__balance #Akan error\n",
        "  #Karena Python \"mangling\" nama atribut __balance menjadi __BankAccount__balance\n",
        "  #Ini adalah salah satu mekanisme enkapsulasi sederhana di Python.\n",
        "\n",
        ""
      ],
      "metadata": {
        "colab": {
          "base_uri": "https://localhost:8080/"
        },
        "id": "fRSdOKrGbtdE",
        "outputId": "263b8c45-1afc-440b-c09a-81ddf9d25562"
      },
      "execution_count": 9,
      "outputs": [
        {
          "output_type": "stream",
          "name": "stdout",
          "text": [
            "(amount) telah ditambahkan ke akun Alice.\n",
            "Jumlah deposit harus lebih besar dari 0.\n",
            "300 telah ditambahkan ke akun Alice.\n",
            "Saldo tidak cukup.\n",
            "Saldo terakhir di akun Alice:1200\n"
          ]
        }
      ]
    },
    {
      "cell_type": "code",
      "source": [
        "class Employee:\n",
        "  def __init__(self, name, salary):\n",
        "    self.__name = name\n",
        "    self.__salary = salary\n",
        "\n",
        "  def update_salary(self, increase):\n",
        "    #menaikkan gaji dengan validasi\n",
        "    if increase > 0:\n",
        "      self.__salary += increase\n",
        "    else :\n",
        "      print(\"Nilai kenaikan harus lebih dari 0.\")\n",
        "\n",
        "  def set_salary(self, new_salary):\n",
        "    #mengubah gaji dengan validasi\n",
        "    if new_salary >= 0:\n",
        "      self.__salary = new_salary\n",
        "      print(f\"Gaji diatur ulang menjadi {new_salary}.\")\n",
        "    else :\n",
        "      print(\"Gaji tidak boleh negatif.\")\n",
        "\n",
        "  def get_salary(self):\n",
        "    #informasi gaji\n",
        "    return self.__salary\n",
        "\n",
        "  def get_employee_info(self):\n",
        "    #informasi karyawan\n",
        "    return f\"Employee: {self.__name}, Gaji: {self.__salary}\"\n",
        "\n",
        "if __name__ == \"__main__\":\n",
        "  #membuat objek employee dengan nama \"John Doe\" dan gaji awal 50000\n",
        "  employee1 = Employee(\"John Doe\", 50000)\n",
        "\n",
        "  #Tampilkan Informasi Karyawan\n",
        "  print(employee1.get_employee_info())\n",
        "\n",
        "  #Update Gaji sebesar 5000\n",
        "  employee1.update_salary(5000)\n",
        "  print(f\"Gaji setelah kenaikan: {employee1.get_salary()}\")\n",
        "\n",
        "  #Atur Ulang Gaji Dengan Nilai Baru\n",
        "  employee1.set_salary(60000)\n",
        "  print(f\"Gaji terbaru: {employee1.get_employee_info()}\")\n",
        "\n",
        "  #Mencoba mengakses atribut privat secara langsung (tidak direkomendasikan)\n",
        "  #Contoh print (employee1.__salary) akan muncul eror\n"
      ],
      "metadata": {
        "colab": {
          "base_uri": "https://localhost:8080/"
        },
        "id": "0l2d4Vo3iL_L",
        "outputId": "71ea41d4-2b79-4c3f-f01b-1e9eb7903623"
      },
      "execution_count": 11,
      "outputs": [
        {
          "output_type": "stream",
          "name": "stdout",
          "text": [
            "Employee: John Doe, Gaji: 50000\n",
            "Gaji setelah kenaikan: 55000\n",
            "Gaji diatur ulang menjadi 60000.\n",
            "Gaji terbaru: Employee: John Doe, Gaji: 60000\n"
          ]
        }
      ]
    },
    {
      "cell_type": "code",
      "source": [
        "class SimpleExample:\n",
        "  def __init__(self, name):\n",
        "    #Konstruktor dibuat. Menyimpan nilai 'nam' dan mencetak pesan pembuat objek.\n",
        "    self.name = name\n",
        "    print(f\"Konstruktor: Objek '{self.name}' telah dibuat.\")\n",
        "\n",
        "  def __del__(self):\n",
        "    #Destruktor dipangil saat objek dihapus. Mencetak pesan bahwa objek sedang dihapus.\n",
        "    print(f\"Destruktor: Objek '{self.name}' sedang dihapus\")\n",
        "\n",
        "def main ():\n",
        "  print (\"Program dimulai. \\n\")\n",
        "\n",
        "  #Membuat objek SimpleExample\n",
        "  obj = SimpleExample(\"Demo\")\n",
        "  print(\"Program sedang berjalan...\\n\")\n",
        "\n",
        "  #Menghapus objek secara eksplisit\n",
        "  del obj\n",
        "  print (\"Objek telah dihapus secara eksplisit.\\n\")\n",
        "\n",
        "  print (\"Program Selesai.\")\n",
        "\n",
        "if __name__ == \"__main__\":\n",
        "  main ()"
      ],
      "metadata": {
        "colab": {
          "base_uri": "https://localhost:8080/"
        },
        "id": "i2aVz0V_4dbo",
        "outputId": "8bd31057-3eec-4e83-8c05-21cfae56ef1b"
      },
      "execution_count": 2,
      "outputs": [
        {
          "output_type": "stream",
          "name": "stdout",
          "text": [
            "Program dimulai. \n",
            "\n",
            "Konstruktor: Objek 'Demo' telah dibuat.\n",
            "Program sedang berjalan...\n",
            "\n",
            "Destruktor: Objek 'Demo' sedang dihapus\n",
            "Objek telah dihapus secara eksplisit.\n",
            "\n",
            "Program Selesai.\n"
          ]
        }
      ]
    }
  ]
}