{
  "nbformat": 4,
  "nbformat_minor": 0,
  "metadata": {
    "colab": {
      "provenance": [],
      "authorship_tag": "ABX9TyOvMcM8ONFSaGvITkvEDoky",
      "include_colab_link": true
    },
    "kernelspec": {
      "name": "python3",
      "display_name": "Python 3"
    },
    "language_info": {
      "name": "python"
    }
  },
  "cells": [
    {
      "cell_type": "markdown",
      "metadata": {
        "id": "view-in-github",
        "colab_type": "text"
      },
      "source": [
        "<a href=\"https://colab.research.google.com/github/kotaksuusu/2025_PBO_TI1A_12/blob/main/Jobsheet3_PBO_Hanif.ipynb\" target=\"_parent\"><img src=\"https://colab.research.google.com/assets/colab-badge.svg\" alt=\"Open In Colab\"/></a>"
      ]
    },
    {
      "cell_type": "code",
      "source": [
        "class BankAccount:\n",
        "  def __init__(self, owner, balance):\n",
        "    #Atribut dengan (__) dianggap private di python\n",
        "    self.__owner = owner\n",
        "    self.__balance = balance\n",
        "\n",
        "  def deposit(self, amount):\n",
        "    #Method Untuk Menambahkan Saldo\n",
        "    if amount > 0:\n",
        "      self.__balance += amount\n",
        "      print(f\"(amount) telah ditambahkan ke akun {self.__owner}.\")\n",
        "    else:\n",
        "      print(\"Jumlah deposit harus lebih besar dari 0.\")\n",
        "\n",
        "  def withdraw(self, amount):\n",
        "    #Penarikan Saldo\n",
        "    if amount <= self.__balance:\n",
        "      self.__balance -= amount\n",
        "      print(f\"{amount} telah ditambahkan ke akun {self.__owner}.\")\n",
        "    else :\n",
        "      print(\"Saldo tidak cukup.\")\n",
        "\n",
        "  def get_balance (self):\n",
        "     #Mendapatkan Informasi Saldo Terkini\n",
        "     return self.__balance\n",
        "\n",
        "if __name__ == \"__main__\":\n",
        "\n",
        "  #Membuat objek bankaccount dengan owner=\"Alice\" dan balance awal 1000\n",
        "  alice_account = BankAccount (owner =\"Alice\", balance =1000)\n",
        "\n",
        "  #Depo Uang\n",
        "  alice_account.deposit(500)        #Berhasil\n",
        "  alice_account.deposit(-100)       #Gagal (validasi)\n",
        "\n",
        "  #Tarik Uang\n",
        "  alice_account.withdraw(300)       #Berhasil\n",
        "  alice_account.withdraw(2000)      #Gagal (saldo tidak cukup)\n",
        "\n",
        "  #Cek Informasi Terkini\n",
        "  current_balance = alice_account.get_balance()\n",
        "  print(f\"Saldo terakhir di akun {alice_account._BankAccount__owner}:{current_balance}\")\n",
        "\n",
        "  #Mencoba akses atribut 'private' langsung (tidak direkomendasikan)\n",
        "  #alice_account.__balance #Akan error\n",
        "  #Karena Python \"mangling\" nama atribut __balance menjadi __BankAccount__balance\n",
        "  #Ini adalah salah satu mekanisme enkapsulasi sederhana di Python.\n",
        "\n",
        ""
      ],
      "metadata": {
        "colab": {
          "base_uri": "https://localhost:8080/"
        },
        "id": "fRSdOKrGbtdE",
        "outputId": "263b8c45-1afc-440b-c09a-81ddf9d25562"
      },
      "execution_count": 9,
      "outputs": [
        {
          "output_type": "stream",
          "name": "stdout",
          "text": [
            "(amount) telah ditambahkan ke akun Alice.\n",
            "Jumlah deposit harus lebih besar dari 0.\n",
            "300 telah ditambahkan ke akun Alice.\n",
            "Saldo tidak cukup.\n",
            "Saldo terakhir di akun Alice:1200\n"
          ]
        }
      ]
    },
    {
      "cell_type": "code",
      "source": [
        "class Employee:\n",
        "  def __init__(self, name, salary):\n",
        "    self.__name = name\n",
        "    self.__salary = salary\n",
        "\n",
        "  def update_salary(self, increase):\n",
        "    #menaikkan gaji dengan validasi\n",
        "    if increase > 0:\n",
        "      self.__salary += increase\n",
        "    else :\n",
        "      print(\"Nilai kenaikan harus lebih dari 0.\")\n",
        "\n",
        "  def set_salary(self, new_salary):\n",
        "    #mengubah gaji dengan validasi\n",
        "    if new_salary >= 0:\n",
        "      self.__salary = new_salary\n",
        "      print(f\"Gaji diatur ulang menjadi {new_salary}.\")\n",
        "    else :\n",
        "      print(\"Gaji tidak boleh negatif.\")\n",
        "\n",
        "  def get_salary(self):\n",
        "    #informasi gaji\n",
        "    return self.__salary\n",
        "\n",
        "  def get_employee_info(self):\n",
        "    #informasi karyawan\n",
        "    return f\"Employee: {self.__name}, Gaji: {self.__salary}\"\n",
        "\n",
        "if __name__ == \"__main__\":\n",
        "  #membuat objek employee dengan nama \"John Doe\" dan gaji awal 50000\n",
        "  employee1 = Employee(\"John Doe\", 50000)\n",
        "\n",
        "  #Tampilkan Informasi Karyawan\n",
        "  print(employee1.get_employee_info())\n",
        "\n",
        "  #Update Gaji sebesar 5000\n",
        "  employee1.update_salary(5000)\n",
        "  print(f\"Gaji setelah kenaikan: {employee1.get_salary()}\")\n",
        "\n",
        "  #Atur Ulang Gaji Dengan Nilai Baru\n",
        "  employee1.set_salary(60000)\n",
        "  print(f\"Gaji terbaru: {employee1.get_employee_info()}\")\n",
        "\n",
        "  #Mencoba mengakses atribut privat secara langsung (tidak direkomendasikan)\n",
        "  #Contoh print (employee1.__salary) akan muncul eror\n"
      ],
      "metadata": {
        "colab": {
          "base_uri": "https://localhost:8080/"
        },
        "id": "0l2d4Vo3iL_L",
        "outputId": "71ea41d4-2b79-4c3f-f01b-1e9eb7903623"
      },
      "execution_count": 11,
      "outputs": [
        {
          "output_type": "stream",
          "name": "stdout",
          "text": [
            "Employee: John Doe, Gaji: 50000\n",
            "Gaji setelah kenaikan: 55000\n",
            "Gaji diatur ulang menjadi 60000.\n",
            "Gaji terbaru: Employee: John Doe, Gaji: 60000\n"
          ]
        }
      ]
    },
    {
      "cell_type": "code",
      "source": [
        "class SimpleExample:\n",
        "  def __init__(self, name):\n",
        "    #Konstruktor dibuat. Menyimpan nilai 'nam' dan mencetak pesan pembuat objek.\n",
        "    self.name = name\n",
        "    print(f\"Konstruktor: Objek '{self.name}' telah dibuat.\")\n",
        "\n",
        "  def __del__(self):\n",
        "    #Destruktor dipangil saat objek dihapus. Mencetak pesan bahwa objek sedang dihapus.\n",
        "    print(f\"Destruktor: Objek '{self.name}' sedang dihapus\")\n",
        "\n",
        "def main ():\n",
        "  print (\"Program dimulai. \\n\")\n",
        "\n",
        "  #Membuat objek SimpleExample\n",
        "  obj = SimpleExample(\"Demo\")\n",
        "  print(\"Program sedang berjalan...\\n\")\n",
        "\n",
        "  #Menghapus objek secara eksplisit\n",
        "  del obj\n",
        "  print (\"Objek telah dihapus secara eksplisit.\\n\")\n",
        "\n",
        "  print (\"Program Selesai.\")\n",
        "\n",
        "if __name__ == \"__main__\":\n",
        "  main ()"
      ],
      "metadata": {
        "colab": {
          "base_uri": "https://localhost:8080/"
        },
        "id": "i2aVz0V_4dbo",
        "outputId": "8bd31057-3eec-4e83-8c05-21cfae56ef1b"
      },
      "execution_count": 2,
      "outputs": [
        {
          "output_type": "stream",
          "name": "stdout",
          "text": [
            "Program dimulai. \n",
            "\n",
            "Konstruktor: Objek 'Demo' telah dibuat.\n",
            "Program sedang berjalan...\n",
            "\n",
            "Destruktor: Objek 'Demo' sedang dihapus\n",
            "Objek telah dihapus secara eksplisit.\n",
            "\n",
            "Program Selesai.\n"
          ]
        }
      ]
    },
    {
      "cell_type": "code",
      "source": [
        "class FileLogger:\n",
        "  def __init__(self, filename):\n",
        "    #Konstruktor: Membuka file log untuk menulis pesan.\n",
        "    #Parameter : -filename: Nama file tempat pesan log akan ditulis.\n",
        "    self.filename = filename\n",
        "    try:\n",
        "      self.file = open (filename, \"a\") #Membuka File dalam mode append\n",
        "      print(f\"File '{filename}'berhasil dibuka untuk logging.\")\n",
        "    except Exception as e:\n",
        "      print(f\"Gagal membuka file '{filename}' : {e}\")\n",
        "\n",
        "  def write_log (self, message):\n",
        "    #Menulis Pesan log ke dalam file\n",
        "    #Parameter : -message: Pesan yang akan ditulis ke file.\n",
        "    self.file.write(message + \"\\n\")\n",
        "    self.file.flush() #Memastikan pesan ditulis langsung ke disk\n",
        "    print(f\"Pesan log: '{message}'telah ditulis\")\n",
        "\n",
        "  def __del__(self):\n",
        "    #Destruktor: Menutup file log ketika objek dihapus\n",
        "    if hasattr(self, \"file\") and not self.file.closed:\n",
        "      self.file.close()\n",
        "      print(f\"File '{self.filename}'telah ditutup\")\n",
        "\n",
        "  #Contoh\n",
        "  if __name__ == \"__main__\":\n",
        "    #Buat objek logger untuk file \"application.log\"\n",
        "    logger = FileLogger(\"application.log\")\n",
        "\n",
        "    #Menulis pesan log selama operasi aplikasi\n",
        "    logger.write_log(\"Aplikasi dimulai.\")\n",
        "    logger.write_log(\"Melakukan operasi A....\")\n",
        "    logger.write_log(\"Operasi A selesai\")\n",
        "    logger.write_log(\"Aplikasi akan segera selesai.\")\n",
        "\n",
        "    #Menghapus objek logger secara eksplisit\n",
        "    del logger\n",
        "    #Jika objek tidak dihapus secara eksplisit, destruktor akan dipanggil\n"
      ],
      "metadata": {
        "colab": {
          "base_uri": "https://localhost:8080/"
        },
        "id": "8EbM_-p-szrt",
        "outputId": "4a1dd20a-dfaf-45ca-ac34-32165f910639"
      },
      "execution_count": 4,
      "outputs": [
        {
          "output_type": "stream",
          "name": "stdout",
          "text": [
            "File 'application.log'berhasil dibuka untuk logging.\n",
            "Pesan log: 'Aplikasi dimulai.'telah ditulis\n",
            "Pesan log: 'Melakukan operasi A....'telah ditulis\n",
            "Pesan log: 'Operasi A selesai'telah ditulis\n",
            "Pesan log: 'Aplikasi akan segera selesai.'telah ditulis\n",
            "File 'application.log'telah ditutup\n"
          ]
        }
      ]
    },
    {
      "cell_type": "code",
      "source": [
        "class Calculator:\n",
        "    def __init__(self, initial_value=0):\n",
        "        \"\"\"\n",
        "        Konstruktor kelas Calculator.\n",
        "        - self: Mengacu pada instance yang dibuat.\n",
        "        - initial_value: Nilai awal dari kalkulator.\n",
        "        \"\"\"\n",
        "        self.value = initial_value\n",
        "        print(f\"Kalkulator diinisialisasi dengan nilai: {self.value}\")\n",
        "\n",
        "    def add(self, number):\n",
        "        \"\"\"\n",
        "        Menambahkan 'number' ke nilai yang tersimpan di objek.\n",
        "        - self.value: Menunjukkan nilai saat ini yang disimpan di objek tersebut.\n",
        "        - number: Nilai yang akan ditambahkan.\n",
        "        \"\"\"\n",
        "        self.value += number\n",
        "        print(f\"Setelah penambahan {number}, nilai sekarang adalah: {self.value}\")\n",
        "\n",
        "    def subtract(self, number):\n",
        "        \"\"\"\n",
        "        Mengurangi 'number' dari nilai yang tersimpan.\n",
        "        - self.value: Nilai saat ini dalam objek.\n",
        "        - number: Nilai yang akan dikurangkan.\n",
        "        \"\"\"\n",
        "        self.value -= number\n",
        "        print(f\"Setelah pengurangan {number}, nilai sekarang adalah: {self.value}\")\n",
        "\n",
        "    def reset(self):\n",
        "        \"\"\"\n",
        "        Mengatur ulang nilai kalkulator ke 0.\n",
        "        \"\"\"\n",
        "        self.value = 0\n",
        "        print(\"Nilai telah direset ke 0.\")\n",
        "\n",
        "    def show_value(self):\n",
        "        \"\"\"\n",
        "        Menampilkan nilai saat ini dari kalkulator.\n",
        "        \"\"\"\n",
        "        print(f\"Nilai saat ini adalah: {self.value}\")\n",
        "\n",
        "\n",
        "# Contoh penggunaan untuk memahami peran 'self'\n",
        "def main():\n",
        "    # Membuat objek Calculator dengan nilai awal 10\n",
        "    calc1 = Calculator(initial_value=10)\n",
        "\n",
        "    # Menggunakan metode dari objek calc1\n",
        "    calc1.add(5)         # Menambah 5 ke nilai calc1\n",
        "    calc1.subtract(3)    # Mengurangi 3 dari nilai calc1\n",
        "    calc1.show_value()   # Menampilkan nilai calc1\n",
        "\n",
        "    # Membuat objek Calculator lainnya dengan nilai awal default (0)\n",
        "    calc2 = Calculator()\n",
        "    calc2.add(20)        # Menambah 20 ke nilai calc2\n",
        "    calc2.show_value()   # Menampilkan nilai calc2\n",
        "\n",
        "    # Penjelasan peran self:\n",
        "    # 'self' memungkinkan setiap instance (calc1, calc2) memiliki atribut 'value' masing-masing.\n",
        "    # Perubahan yang dilakukan pada calc1 tidak akan mempengaruhi calc2, karena masing-masing\n",
        "    # mengacu pada self yang berbeda (instance yang berbeda).\n",
        "\n",
        "if __name__ == \"__main__\":\n",
        "    main()\n"
      ],
      "metadata": {
        "colab": {
          "base_uri": "https://localhost:8080/"
        },
        "id": "IUlDtnehBLDF",
        "outputId": "39fdc4b9-4083-448f-83cd-798db10ce88c"
      },
      "execution_count": 5,
      "outputs": [
        {
          "output_type": "stream",
          "name": "stdout",
          "text": [
            "Kalkulator diinisialisasi dengan nilai: 10\n",
            "Setelah penambahan 5, nilai sekarang adalah: 15\n",
            "Setelah pengurangan 3, nilai sekarang adalah: 12\n",
            "Nilai saat ini adalah: 12\n",
            "Kalkulator diinisialisasi dengan nilai: 0\n",
            "Setelah penambahan 20, nilai sekarang adalah: 20\n",
            "Nilai saat ini adalah: 20\n"
          ]
        }
      ]
    },
    {
      "cell_type": "code",
      "source": [
        "class Person:\n",
        "    def __init__(self, name, age):\n",
        "        \"\"\"\n",
        "        Konstruktor untuk menginisialisasi objek Person dengan nama dan umur.\n",
        "        Atribut privat (dengan double underscore) menyimpan data internal.\n",
        "        \"\"\"\n",
        "        self.__name = name\n",
        "        self.__age = age\n",
        "\n",
        "    @property\n",
        "    def name(self):\n",
        "        \"\"\"\n",
        "        Getter untuk atribut name.\n",
        "        Mengembalikan nilai dari __name.\n",
        "        \"\"\"\n",
        "        return self.__name\n",
        "\n",
        "    @name.setter\n",
        "    def name(self, value):\n",
        "        \"\"\"\n",
        "        Setter untuk atribut name.\n",
        "        Memeriksa apakah nilai tidak kosong sebelum mengubah nilai __name.\n",
        "        \"\"\"\n",
        "        if not value:\n",
        "            print(\"Nama tidak boleh kosong.\")\n",
        "        else:\n",
        "            self.__name = value\n",
        "\n",
        "    @property\n",
        "    def age(self):\n",
        "        \"\"\"\n",
        "        Getter untuk atribut age.\n",
        "        Mengembalikan nilai dari __age.\n",
        "        \"\"\"\n",
        "        return self.__age\n",
        "\n",
        "    @age.setter\n",
        "    def age(self, value):\n",
        "        \"\"\"\n",
        "        Setter untuk atribut age.\n",
        "        Memeriksa apakah nilai umur tidak negatif sebelum mengubah nilai __age.\n",
        "        \"\"\"\n",
        "        if value < 0:\n",
        "            print(\"Umur tidak boleh negatif!\")\n",
        "        else:\n",
        "            self.__age = value\n",
        "\n",
        "# Contoh penggunaan\n",
        "def main():\n",
        "    # Membuat objek Person dengan nama \"Alice\" dan umur 30\n",
        "    person = Person(\"Alice\", 30)\n",
        "    print(f\"Nama: {person.name}, Umur: {person.age}\")\n",
        "\n",
        "    # Mengubah nama dan umur melalui setter\n",
        "    person.name = \"Bob\"\n",
        "    person.age = 35\n",
        "    print(f\"Nama baru: {person.name}, Umur baru: {person.age}\")\n",
        "\n",
        "    # Mencoba menetapkan nilai yang tidak valid untuk umur\n",
        "    person.age = -5  # Akan memunculkan pesan error karena validasi umur negatif\n",
        "\n",
        "if __name__ == \"__main__\":\n",
        "    main()\n"
      ],
      "metadata": {
        "colab": {
          "base_uri": "https://localhost:8080/"
        },
        "id": "o7ii4wV5DbMv",
        "outputId": "1a2db4c4-7379-4dc4-bbea-bcc8afe6e71f"
      },
      "execution_count": 7,
      "outputs": [
        {
          "output_type": "stream",
          "name": "stdout",
          "text": [
            "Nama: Alice, Umur: 30\n",
            "Nama baru: Bob, Umur baru: 35\n",
            "Umur tidak boleh negatif!\n"
          ]
        }
      ]
    }
  ]
}