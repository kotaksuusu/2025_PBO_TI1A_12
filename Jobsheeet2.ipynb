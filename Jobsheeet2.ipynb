{
  "nbformat": 4,
  "nbformat_minor": 0,
  "metadata": {
    "colab": {
      "provenance": [],
      "authorship_tag": "ABX9TyNXiFR6ZSOOckAOr0k9Bcsg",
      "include_colab_link": true
    },
    "kernelspec": {
      "name": "python3",
      "display_name": "Python 3"
    },
    "language_info": {
      "name": "python"
    }
  },
  "cells": [
    {
      "cell_type": "markdown",
      "metadata": {
        "id": "view-in-github",
        "colab_type": "text"
      },
      "source": [
        "<a href=\"https://colab.research.google.com/github/kotaksuusu/2025_PBO_TI1A_12/blob/main/Jobsheeet2.ipynb\" target=\"_parent\"><img src=\"https://colab.research.google.com/assets/colab-badge.svg\" alt=\"Open In Colab\"/></a>"
      ]
    },
    {
      "cell_type": "code",
      "execution_count": 4,
      "metadata": {
        "colab": {
          "base_uri": "https://localhost:8080/"
        },
        "id": "LJrci8wzkhxU",
        "outputId": "a31981f4-1c38-48a4-a31f-b8d6b4935516"
      },
      "outputs": [
        {
          "output_type": "stream",
          "name": "stdout",
          "text": [
            "8\n"
          ]
        }
      ],
      "source": [
        "def tambah(a, b):\n",
        "  return a + b\n",
        "hasil = tambah(3, 5)\n",
        "\n",
        "print(hasil)\n",
        "\n"
      ]
    },
    {
      "cell_type": "code",
      "source": [
        "class Mahasiswa:\n",
        "  def __init__(self, nama, nim):\n",
        "    self.nama = nama\n",
        "    self.nim = nim\n",
        "\n",
        "  def tampilkan_info(self):\n",
        "    print(\"Nama:\", self.nama)\n",
        "    print(\"NIM:\", self.nim)\n"
      ],
      "metadata": {
        "id": "4pSVrmwmlx_i"
      },
      "execution_count": 10,
      "outputs": []
    },
    {
      "cell_type": "code",
      "source": [
        "class Persegi:\n",
        "  def __init__(self, sisi):\n",
        "    self.sisi = sisi\n",
        "\n",
        "  def luas(self):\n",
        "    return self.sisi ** 2\n",
        "\n",
        "p = Persegi(4)\n",
        "print(p.luas())"
      ],
      "metadata": {
        "colab": {
          "base_uri": "https://localhost:8080/"
        },
        "id": "9ubaJglmmk3B",
        "outputId": "371f12cd-c359-4f4b-f5af-5d7fcd5e112c"
      },
      "execution_count": 11,
      "outputs": [
        {
          "output_type": "stream",
          "name": "stdout",
          "text": [
            "16\n"
          ]
        }
      ]
    },
    {
      "cell_type": "code",
      "source": [
        "# Fungsi Built-in\n",
        "# Fungsi print() adalah contoh fungsi built-in untuk mencetak output\n",
        "print(\"Fungsi print()\")\n",
        "print(\"Ini adalah contoh fungsi built-in\\n\")\n",
        "\n",
        "# Fungsi len() adalah contoh fungsi built-in untuk menghitung panjang suatu objek\n",
        "print(\"Fungsi len()\")\n",
        "kata = \"Pemrograman\"\n",
        "panjang_kata = len(kata)\n",
        "print(f\"Panjang kata '{kata}' adalah: {panjang_kata} \\n\")\n",
        "\n",
        "# Fungsi max() adalah contoh fungsi built-in untuk mencari nilai maksimum dari sebuah daftar\n",
        "print(\"Fungsi max()\")\n",
        "angka = [10, 5, 30, 40, 25]\n",
        "nilai_max = max(angka)\n",
        "print(f\"Nilai maksimum dalam daftar {angka} adalah: {nilai_max} \\n\")\n",
        "\n",
        "\n",
        "# Fungsi User-Defined\n",
        "# Fungsi dengan satu parameter (Menerima satu nilai input)\n",
        "print(\"Fungsi def\")\n",
        "def cetak_kuadrat(angka):\n",
        "     print(f\"Kuadrat dari {angka} adalah: {angka ** 2}\\n\")\n",
        "cetak_kuadrat(10)\n",
        "\n",
        "# Fungsi dengan beberapa parameter (Menerima lebih dari satu nilai input)\n",
        "print(\"Fungsi def lebih dari satu input\")\n",
        "def hitung_luas_persegi_panjang(panjang, lebar):\n",
        "    # Menghitung luas persegi panjang\n",
        "    print(f\"Luas persegi panjang dengan panjang {panjang} dan lebar {lebar} adalah:\")\n",
        "    return panjang * lebar\n",
        "\n",
        "hitung_luas_persegi_panjang(3,4)\n",
        "\n",
        "print(\"\\nFungsi untuk input beberapa tipe\")\n",
        "# Fungsi dengan beberapa tipe parameter (Menerima berbagai jenis data)\n",
        "def info_mahasiswa(nama, umur, ipk):\n",
        "    # Mencetak informasi mahasiswa\n",
        "    print(f\"Nama: {nama}, Umur: {umur}, IPK: {ipk}\\n\")\n",
        "info_mahasiswa(\"Budi\", 20, 3.7)\n",
        "\n",
        "print(\"Fungsi tanpa return value (Non-return value)\")\n",
        "def sapa_pengguna(nama):\n",
        "    # Fungsi ini hanya mencetak sapaan tanpa mengembalikan nilai\n",
        "    print(f\"Halo, {nama}! Selamat datang di dunia Python.\\n\")\n",
        "\n",
        "sapa_pengguna(\"Hasan\")\n",
        "\n",
        "print(\"Fungsi dengan return value\")\n",
        "def hitung_keliling_persegi(sisi):\n",
        "    # Mengembalikan keliling persegi\n",
        "    return 4 * sisi\n",
        "hitung_keliling_persegi(5)\n",
        "\n",
        "\n",
        "print(\"\\nPemanggilan fungsi dengan satu parameter\")\n",
        "cetak_kuadrat(7)\n",
        "\n",
        "print(\"\\nPemanggilan fungsi dengan beberapa parameter\")\n",
        "luas = hitung_luas_persegi_panjang(10, 5)\n",
        "print(f\"Luas persegi panjang: {luas}\")\n",
        "\n",
        "print(\"\\nPemanggilan fungsi dengan beberapa tipe parameter\")\n",
        "info_mahasiswa(\"Budi\", 22, 3.8)\n",
        "\n",
        "print(\"Pemanggilan fungsi dengan beberapa tipe parameter\")\n",
        "info_mahasiswa(\"Budi\", 22, 3.8)\n",
        "\n",
        "print(\"Pemanggilan fungsi dengan return value\")\n",
        "keliling = hitung_keliling_persegi(5)\n",
        "print(f\"Keliling persegi dengan sisi 5 adalah: {keliling}\")\n"
      ],
      "metadata": {
        "colab": {
          "base_uri": "https://localhost:8080/"
        },
        "id": "3FNsJjGknpOD",
        "outputId": "8a2838de-c2be-4833-ad6e-9bc356e42b07"
      },
      "execution_count": 61,
      "outputs": [
        {
          "output_type": "stream",
          "name": "stdout",
          "text": [
            "Fungsi print()\n",
            "Ini adalah contoh fungsi built-in\n",
            "\n",
            "Fungsi len()\n",
            "Panjang kata 'Pemrograman' adalah: 11 \n",
            "\n",
            "Fungsi max()\n",
            "Nilai maksimum dalam daftar [10, 5, 30, 40, 25] adalah: 40 \n",
            "\n",
            "Fungsi def\n",
            "Kuadrat dari 10 adalah: 100\n",
            "\n",
            "Fungsi def lebih dari satu input\n",
            "Luas persegi panjang dengan panjang 3 dan lebar 4 adalah:\n",
            "\n",
            "Fungsi untuk input beberapa tipe\n",
            "Nama: Budi, Umur: 20, IPK: 3.7\n",
            "\n",
            "Fungsi tanpa return value (Non-return value)\n",
            "Halo, Hasan! Selamat datang di dunia Python.\n",
            "\n",
            "Fungsi dengan return value\n",
            "\n",
            "Pemanggilan fungsi dengan satu parameter\n",
            "Kuadrat dari 7 adalah: 49\n",
            "\n",
            "\n",
            "Pemanggilan fungsi dengan beberapa parameter\n",
            "Luas persegi panjang dengan panjang 10 dan lebar 5 adalah:\n",
            "Luas persegi panjang: 50\n",
            "\n",
            "Pemanggilan fungsi dengan beberapa tipe parameter\n",
            "Nama: Budi, Umur: 22, IPK: 3.8\n",
            "\n",
            "Pemanggilan fungsi dengan beberapa tipe parameter\n",
            "Nama: Budi, Umur: 22, IPK: 3.8\n",
            "\n",
            "Pemanggilan fungsi dengan return value\n",
            "Keliling persegi dengan sisi 5 adalah: 20\n"
          ]
        }
      ]
    }
  ]
}