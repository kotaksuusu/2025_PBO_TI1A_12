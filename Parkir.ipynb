{
  "nbformat": 4,
  "nbformat_minor": 0,
  "metadata": {
    "colab": {
      "provenance": [],
      "authorship_tag": "ABX9TyOaAXe5w0fVf9b2iz+4lD5X",
      "include_colab_link": true
    },
    "kernelspec": {
      "name": "python3",
      "display_name": "Python 3"
    },
    "language_info": {
      "name": "python"
    }
  },
  "cells": [
    {
      "cell_type": "markdown",
      "metadata": {
        "id": "view-in-github",
        "colab_type": "text"
      },
      "source": [
        "<a href=\"https://colab.research.google.com/github/kotaksuusu/2025_PBO_TI1A_12/blob/main/Parkir.ipynb\" target=\"_parent\"><img src=\"https://colab.research.google.com/assets/colab-badge.svg\" alt=\"Open In Colab\"/></a>"
      ]
    },
    {
      "cell_type": "code",
      "execution_count": 1,
      "metadata": {
        "colab": {
          "base_uri": "https://localhost:8080/"
        },
        "id": "jDt8kTAO6his",
        "outputId": "d2c549d7-4dc5-4817-f89a-1fa702527e72"
      },
      "outputs": [
        {
          "output_type": "stream",
          "name": "stdout",
          "text": [
            "\n",
            "Menu Parkir Motor:\n",
            "1. Tampilkan Daftar Parkir\n",
            "2. Tambah Motor\n",
            "3. Keluarkan Motor\n",
            "4. Keluar\n",
            "Pilih menu: 1\n",
            "\n",
            "Daftar Motor yang Diparkir:\n",
            "Tidak ada motor yang sedang diparkir.\n",
            "\n",
            "Menu Parkir Motor:\n",
            "1. Tampilkan Daftar Parkir\n",
            "2. Tambah Motor\n",
            "3. Keluarkan Motor\n",
            "4. Keluar\n",
            "Pilih menu: 2\n",
            "Masukkan plat nomor motor: 12234\n",
            "Masukkan waktu masuk (HH:MM): 12:12\n",
            "Motor berhasil ditambahkan ke parkiran!\n",
            "\n",
            "Menu Parkir Motor:\n",
            "1. Tampilkan Daftar Parkir\n",
            "2. Tambah Motor\n",
            "3. Keluarkan Motor\n",
            "4. Keluar\n",
            "Pilih menu: 1\n",
            "\n",
            "Daftar Motor yang Diparkir:\n",
            "1. Motor 12234 masuk pada 12:12\n",
            "\n",
            "Menu Parkir Motor:\n",
            "1. Tampilkan Daftar Parkir\n",
            "2. Tambah Motor\n",
            "3. Keluarkan Motor\n",
            "4. Keluar\n",
            "Pilih menu: 4\n",
            "Keluar dari program parkir.\n"
          ]
        }
      ],
      "source": [
        "# Modul utama\n",
        "from manajemen_parkir import tampilkan_daftar_parkir, tambah_motor, hapus_motor\n",
        "\n",
        "def main():\n",
        "    daftar_parkir = []\n",
        "\n",
        "    while True:\n",
        "        print(\"\\nMenu Parkir Motor:\")\n",
        "        print(\"1. Tampilkan Daftar Parkir\")\n",
        "        print(\"2. Tambah Motor\")\n",
        "        print(\"3. Keluarkan Motor\")\n",
        "        print(\"4. Keluar\")\n",
        "        pilihan = input(\"Pilih menu: \")\n",
        "\n",
        "        if pilihan == \"1\":\n",
        "            tampilkan_daftar_parkir(daftar_parkir)\n",
        "        elif pilihan == \"2\":\n",
        "            tambah_motor(daftar_parkir)\n",
        "        elif pilihan == \"3\":\n",
        "            hapus_motor(daftar_parkir)\n",
        "        elif pilihan == \"4\":\n",
        "            print(\"Keluar dari program parkir.\")\n",
        "            break\n",
        "        else:\n",
        "            print(\"Pilihan tidak valid.\")\n",
        "\n",
        "if __name__ == \"__main__\":\n",
        "    main()"
      ]
    }
  ]
}