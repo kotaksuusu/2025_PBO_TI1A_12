{
  "nbformat": 4,
  "nbformat_minor": 0,
  "metadata": {
    "colab": {
      "provenance": [],
      "authorship_tag": "ABX9TyM7fH9QB+pDROXHl8kECPgX",
      "include_colab_link": true
    },
    "kernelspec": {
      "name": "python3",
      "display_name": "Python 3"
    },
    "language_info": {
      "name": "python"
    }
  },
  "cells": [
    {
      "cell_type": "markdown",
      "metadata": {
        "id": "view-in-github",
        "colab_type": "text"
      },
      "source": [
        "<a href=\"https://colab.research.google.com/github/kotaksuusu/2025_PBO_TI1A_12/blob/main/Parkir.ipynb\" target=\"_parent\"><img src=\"https://colab.research.google.com/assets/colab-badge.svg\" alt=\"Open In Colab\"/></a>"
      ]
    },
    {
      "cell_type": "code",
      "execution_count": 2,
      "metadata": {
        "colab": {
          "base_uri": "https://localhost:8080/"
        },
        "id": "jDt8kTAO6his",
        "outputId": "6c78e1b3-efb9-4f2c-bfef-52cb84ac758c"
      },
      "outputs": [
        {
          "output_type": "stream",
          "name": "stdout",
          "text": [
            "Program Parkir Motor\n",
            "\n",
            "Daftar Motor yang Diparkir:\n",
            "1. Motor B 1234 AB masuk pada 08:00\n",
            "2. Motor D 5678 CD masuk pada 09:30\n",
            "3. Motor F 9101 EF masuk pada 11:15\n",
            "\n",
            "Setelah Menambahkan Motor Baru:\n",
            "\n",
            "Daftar Motor yang Diparkir:\n",
            "1. Motor B 1234 AB masuk pada 08:00\n",
            "2. Motor D 5678 CD masuk pada 09:30\n",
            "3. Motor F 9101 EF masuk pada 11:15\n",
            "4. Motor G 3142 HI masuk pada 12:45\n",
            "\n",
            "Setelah Mengeluarkan Motor Pertama:\n",
            "\n",
            "Daftar Motor yang Diparkir:\n",
            "1. Motor D 5678 CD masuk pada 09:30\n",
            "2. Motor F 9101 EF masuk pada 11:15\n",
            "3. Motor G 3142 HI masuk pada 12:45\n",
            "\n",
            "Program selesai.\n"
          ]
        }
      ],
      "source": [
        "from parkir_roda_dua import ParkirMotor\n",
        "\n",
        "def tampilkan_daftar_parkir(daftar_parkir):\n",
        "    print(\"\\nDaftar Motor yang Diparkir:\")\n",
        "    if not daftar_parkir:\n",
        "        print(\"Tidak ada motor yang sedang diparkir.\")\n",
        "    for idx, motor in enumerate(daftar_parkir, start=1):\n",
        "        print(f\"{idx}. {motor.tampilkan_info()}\")\n",
        "\n",
        "def main():\n",
        "    daftar_parkir = [\n",
        "        ParkirMotor(\"B 1234 AB\", \"08:00\"),\n",
        "        ParkirMotor(\"D 5678 CD\", \"09:30\"),\n",
        "        ParkirMotor(\"F 9101 EF\", \"11:15\")\n",
        "    ]\n",
        "\n",
        "    print(\"Program Parkir Motor\")\n",
        "    tampilkan_daftar_parkir(daftar_parkir)\n",
        "\n",
        "    # Simulasi menambah motor baru\n",
        "    motor_baru = ParkirMotor(\"G 3142 HI\", \"12:45\")\n",
        "    daftar_parkir.append(motor_baru)\n",
        "    print(\"\\nSetelah Menambahkan Motor Baru:\")\n",
        "    tampilkan_daftar_parkir(daftar_parkir)\n",
        "\n",
        "    # Simulasi menghapus motor pertama dari daftar\n",
        "    del daftar_parkir[0]\n",
        "    print(\"\\nSetelah Mengeluarkan Motor Pertama:\")\n",
        "    tampilkan_daftar_parkir(daftar_parkir)\n",
        "\n",
        "    print(\"\\nProgram selesai.\")\n",
        "\n",
        "if __name__ == \"__main__\":\n",
        "    main()"
      ]
    }
  ]
}