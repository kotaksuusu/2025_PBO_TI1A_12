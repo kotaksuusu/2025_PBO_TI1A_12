{
  "nbformat": 4,
  "nbformat_minor": 0,
  "metadata": {
    "colab": {
      "provenance": [],
      "authorship_tag": "ABX9TyP8usvSp+K67ZFlXw8gtFmu",
      "include_colab_link": true
    },
    "kernelspec": {
      "name": "python3",
      "display_name": "Python 3"
    },
    "language_info": {
      "name": "python"
    }
  },
  "cells": [
    {
      "cell_type": "markdown",
      "metadata": {
        "id": "view-in-github",
        "colab_type": "text"
      },
      "source": [
        "<a href=\"https://colab.research.google.com/github/kotaksuusu/2025_PBO_TI1A_12/blob/main/Jobsheet4_PBO.ipynb\" target=\"_parent\"><img src=\"https://colab.research.google.com/assets/colab-badge.svg\" alt=\"Open In Colab\"/></a>"
      ]
    },
    {
      "cell_type": "code",
      "execution_count": 11,
      "metadata": {
        "colab": {
          "base_uri": "https://localhost:8080/"
        },
        "id": "5dxWdM2IP828",
        "outputId": "07b198c9-f551-4058-e62b-99d8b67f891d"
      },
      "outputs": [
        {
          "output_type": "stream",
          "name": "stdout",
          "text": [
            "Ini adalah mobil Tesla Model S berwarna Merah.\n",
            "Mesin kendaran Tesla Model S dinyalakan.\n",
            "Merk mobil:Tesla Model S\n"
          ]
        }
      ],
      "source": [
        "class Kendaraan:\n",
        "  def __init__ (self,merk):\n",
        "    self.merk = merk\n",
        "\n",
        "  def mulai_mesin(self):\n",
        "    print(f\"Mesin kendaran {self.merk} dinyalakan.\")\n",
        "\n",
        "class Mobil (Kendaraan):\n",
        "  def __init__(self, merk, warna):\n",
        "    self.merk = merk\n",
        "    self.warna = warna\n",
        "\n",
        "  def info_mobil(self):\n",
        "    print(f\"Ini adalah mobil {self.merk} berwarna {self.warna}.\")\n",
        "\n",
        "if __name__==\"__main__\":\n",
        "  mobil_tesla = Mobil(\"Tesla Model S\", \"Merah\")\n",
        "\n",
        "  mobil_tesla.info_mobil()\n",
        "  mobil_tesla.mulai_mesin()\n",
        "  print(f\"Merk mobil:{mobil_tesla.merk}\")"
      ]
    },
    {
      "cell_type": "code",
      "source": [
        "class Person:\n",
        "  def __init__(self,nama,usia):\n",
        "    print(f\"(Memanggil __init__ Person untuk '{nama}')\")\n",
        "    self.nama = nama\n",
        "    self.usia = usia\n",
        "\n",
        "  def perkenalkan_diri(self):\n",
        "    print(f\"Halo, nama saya {self.nama}, usia saya {self.usia} tahun.\")\n",
        "\n",
        "class Student (Person):\n",
        "  def __init__(self, nama, usia, student_id, jurusan):\n",
        "    print(f\"(Memanggil__init__ Student untuk '{nama}')\")\n",
        "    super().__init__(nama, usia)\n",
        "    self.student_id = student_id\n",
        "    self.jurusan = jurusan\n",
        "    print(f\"(Inisialisasi atribut Student selesai untuk '{nama}')\")\n",
        "\n",
        "  def info_akademik(self):\n",
        "    print(f\"ID Mahasiswa: {self.student_id}\")\n",
        "    print(f\"Jurusan: {self.jurusan}\")\n",
        "\n",
        "  def perkenalkan_diri(self):\n",
        "    super().perkenalkan_diri()\n",
        "    print(f\"Saya adalah mahasiswa dengan ID {self.student_id}, jurusan {self.jurusan}\")\n",
        "\n",
        "if  __name__==\"__main__\":\n",
        "  dosen = Person(\"Pak Anton\", 45)\n",
        "  print(\"-\" * 20)\n",
        "  dosen.perkenalkan_diri()\n",
        "  print(\"\\n\"+\"=\" * 30 + \"\\n\")\n",
        "\n",
        "  mahasiswa = Student(\"Dewi\", 20, \"MHS001\", \"Teknik Komputer\")\n",
        "  print(\"-\" * 20)\n",
        "  mahasiswa.perkenalkan_diri()\n",
        "  print(\"-\" * 20)\n",
        "  mahasiswa.info_akademik()\n",
        "\n",
        "  print(f\"\\nUsia mahasiswa {mahasiswa.nama}: {mahasiswa.usia}\")"
      ],
      "metadata": {
        "colab": {
          "base_uri": "https://localhost:8080/"
        },
        "id": "WrkBc2tyT-H9",
        "outputId": "1146173c-0c19-4cc8-ab5c-4ae3f6356dcc"
      },
      "execution_count": 13,
      "outputs": [
        {
          "output_type": "stream",
          "name": "stdout",
          "text": [
            "(Memanggil __init__ Person untuk 'Pak Anton')\n",
            "--------------------\n",
            "Halo, nama saya Pak Anton, usia saya 45 tahun.\n",
            "\n",
            "==============================\n",
            "\n",
            "(Memanggil__init__ Student untuk 'Dewi')\n",
            "(Memanggil __init__ Person untuk 'Dewi')\n",
            "(Inisialisasi atribut Student selesai untuk 'Dewi')\n",
            "--------------------\n",
            "Halo, nama saya Dewi, usia saya 20 tahun.\n",
            "Saya adalah mahasiswa dengan ID MHS001, jurusan Teknik Komputer\n",
            "--------------------\n",
            "ID Mahasiswa: MHS001\n",
            "Jurusan: Teknik Komputer\n",
            "\n",
            "Usia mahasiswa Dewi: 20\n"
          ]
        }
      ]
    },
    {
      "cell_type": "code",
      "source": [
        "class Hewan :\n",
        "  def __init__(self, nama):\n",
        "    self.nama = nama\n",
        "  def bersuara(self):\n",
        "    print(f\"{self.nama} mengeluarkan suara generik.\")\n",
        "  def tampilkan_info(self):\n",
        "    print(f\"Ini adalah hewan bernama {self.nama}.\")\n",
        "\n",
        "class Kucing(Hewan):\n",
        "  def __init__(self, nama, ras):\n",
        "    super().__init__(nama)\n",
        "    self.ras = ras\n",
        "\n",
        "  def bersuara(self):\n",
        "    print(f\"{self.nama} (Kucing) mengeong: Rawr!\")\n",
        "\n",
        "  def tampilkan_info(self):\n",
        "    super().tampilkan_info()\n",
        "    print(f\"Ini adalah kucing ras {self.ras}.\")\n",
        "\n",
        "if __name__ == \"__main__\":\n",
        "  hewan_umum = Hewan(\"Mahkluk\")\n",
        "  kucing_persia = Kucing(\"Puspus\", \"Persia\")\n",
        "\n",
        "  print(\"Info Hewan Umum:\")\n",
        "  hewan_umum.tampilkan_info()\n",
        "  hewan_umum.bersuara()\n",
        "  print(\"-\" * 20)\n",
        "\n",
        "  print(\"Info Kucing Persia:\")\n",
        "  kucing_persia.tampilkan_info()\n",
        "  kucing_persia.bersuara()"
      ],
      "metadata": {
        "colab": {
          "base_uri": "https://localhost:8080/"
        },
        "id": "9M74tXD7b5tj",
        "outputId": "bad1dee8-cfd2-4b33-82dc-e3e1c5017dfb"
      },
      "execution_count": 20,
      "outputs": [
        {
          "output_type": "stream",
          "name": "stdout",
          "text": [
            "Info Hewan Umum:\n",
            "Ini adalah hewan bernama Mahkluk.\n",
            "Mahkluk mengeluarkan suara generik.\n",
            "--------------------\n",
            "Info Kucing Persia:\n",
            "Ini adalah hewan bernama Puspus.\n",
            "Ini adalah kucing ras Persia.\n",
            "Puspus (Kucing) mengeong: Rawr!\n"
          ]
        }
      ]
    },
    {
      "cell_type": "code",
      "source": [
        "class Organisme:\n",
        "  def __init__(self, nama):\n",
        "    self.nama = nama\n",
        "\n",
        "  def bernapas(self):\n",
        "    print(f\"{self.nama} sedang bernapas.\")\n",
        "\n",
        "class Hewan(Organisme):\n",
        "  def __init__(self, nama, jenis_makanan):\n",
        "    super().__init__(nama)\n",
        "    self.jenis_makanan = jenis_makanan\n",
        "    print(f\"Hewan '{self.nama}' adalah {self.jenis_makanan}.\")\n",
        "\n",
        "  def bergerak(self):\n",
        "    print(f\"{self.nama} sedang bergerak.\")\n",
        "\n",
        "class Mamalia(Hewan):\n",
        "  def __init__(self, nama, jenis_makanan, jumlah_kaki):\n",
        "    super().__init__(nama, jenis_makanan)\n",
        "    self.jumlah_kaki = jumlah_kaki\n",
        "    print(f\"Mamalia '{self.nama}' memiliki {self.jumlah_kaki} kaki.\")\n",
        "\n",
        "  def menyusui(self):\n",
        "    print(f\"{self.nama} sedang menyusui.\")\n",
        "\n",
        "if __name__==\"__main__\":\n",
        "  kucing = Mamalia (\"Kucing Persia\", \"Karnivora\", 4)\n",
        "  print(\"-\" * 20)\n",
        "  kucing.bernapas()\n",
        "  print(f\"Nama organisme: {kucing.nama}\")\n",
        "  kucing.bergerak()\n",
        "  print(f\"Jenis makanan: {kucing.jenis_makanan}\")\n",
        "  kucing.menyusui()\n"
      ],
      "metadata": {
        "colab": {
          "base_uri": "https://localhost:8080/"
        },
        "id": "Vl_oVarMgPDl",
        "outputId": "10587f9c-10e0-44c7-9a9e-c5a63b8de3d7"
      },
      "execution_count": 22,
      "outputs": [
        {
          "output_type": "stream",
          "name": "stdout",
          "text": [
            "Hewan 'Kucing Persia' adalah Karnivora.\n",
            "Mamalia 'Kucing Persia' memiliki 4 kaki.\n",
            "--------------------\n",
            "Kucing Persia sedang bernapas.\n",
            "Nama organisme: Kucing Persia\n",
            "Kucing Persia sedang bergerak.\n",
            "Jenis makanan: Karnivora\n",
            "Kucing Persia sedang menyusui.\n"
          ]
        }
      ]
    },
    {
      "cell_type": "code",
      "source": [
        "import locale\n",
        "\n",
        "try:\n",
        "  locale.setlocale(locale.LC_ALL, 'id_ID.UTF-8')\n",
        "except locale.Error:\n",
        "  print(f\"Locale id_ID.UTF-8 tidak tersedia, menggunakan locale default.\")\n",
        "\n",
        "def format_rupiah(angka):\n",
        "  return locale.currency(angka, grouping=True, symbol='Rp')\n",
        "\n",
        "class Pegawai :\n",
        "  def __init__(self, nama, id_pegawai, gaji_pokok):\n",
        "    self.nama = nama\n",
        "    self.id_pegawai = id_pegawai\n",
        "    self.gaji_pokok = gaji_pokok\n",
        "\n",
        "  def hitung_gaji(self):\n",
        "    return self.gaji_pokok\n",
        "\n",
        "  def tampilkan_info(self):\n",
        "    print(f\"ID: {self.id_pegawai}, Nama: {self.nama}\")\n",
        "    print(f\"Gaji Pokok: {format_rupiah(self.gaji_pokok)}\")\n",
        "\n",
        "  class Manager(Pegawai):\n",
        "    def __init__(self, nama, id_pegawai, gaji_pokok, tunjangan_jabatan):\n",
        "      super().__init__(nama, id_pegawai, gaji_pokok)\n",
        "      self.tunjangan_jabatan = tunjangan_jabatan\n",
        "\n",
        "    def hitung_gaji(self):\n",
        "      gaji_total = super().hitung_gaji() + self.tunjangan_jabatan\n",
        "      return gaji_total\n",
        "\n",
        "    def tampilkan_info(self):\n",
        "      super().tampilkan_info()\n",
        "      print (f\"Tunjangan Jabatan: {format_rupiah(self.tunjangan_jabatan)}\")\n",
        "      print (f\"Total Gaji: {format_rupiah(self.hitung_gaji())}\")\n",
        "\n",
        "class StafTeknis(Pegawai):\n",
        "  def __init__(self, nama, id_pegawai, gaji_pokok, keahlian, bonus_keahlian):\n",
        "    super().__init__(nama, id_pegawai, gaji_pokok)\n",
        "    self.keahlian = keahlian\n",
        "    self.bonus_keahlian = bonus_keahlian\n",
        "\n",
        "  def hitung_gaji(self):\n",
        "    gaji_total = super().hitung_gaji() + self.bonus_keahlian\n",
        "    return gaji_total\n",
        "\n",
        "  def tampilkan_info(self):\n",
        "    print(\"---Info Staf Teknis---\")\n",
        "    super().tampilkan_info()\n",
        "    print(f\"Keahlian:{self.keahlian}\")\n",
        "    print(f\"Bonus Keahlian: {format_rupiah(self.bonus_keahlian)}\")\n",
        "    print(f\"Total Gaji: {format_rupiah(self.hitung_gaji())}\")\n",
        "\n",
        "if __name__==\"__main__\":\n",
        "  manager1 = Manager(\"Budi Santoso\", \"M001\", 10000000, 5000000)\n",
        "  staf1 = StafTeknis (\"Citra Lestari\", \"S001\", 7000000, \"Python Programming\", 1500000)\n",
        "  pegawai_baru = Pegawai(\"Rian\", \"P005\", 5000000)\n",
        "\n",
        "  print(\"Menampilkan Informasi Pegawai:\")\n",
        "  manager1.tampilkan_info()\n",
        "  print(\"-\" * 30)\n",
        "  staf1.tampilkan_info()\n",
        "  print(\"-\" * 30)\n",
        "\n",
        "  print(\"---Info Pegawai Baru---\")\n",
        "  pegawai_baru.tampilkan_info()\n",
        "  print(f\"Total Gaji: {format_rupiah(pegawai_baru.hitung_gaji())}\")\n",
        "  print(\"-\" * 30)\n"
      ],
      "metadata": {
        "colab": {
          "base_uri": "https://localhost:8080/",
          "height": 349
        },
        "id": "17uhHfoTjCG_",
        "outputId": "b4ce84e3-a9c1-4a8e-8c11-c6756b9e01e2"
      },
      "execution_count": 1,
      "outputs": [
        {
          "output_type": "stream",
          "name": "stdout",
          "text": [
            "Locale id_ID.UTF-8 tidak tersedia, menggunakan locale default.\n"
          ]
        },
        {
          "output_type": "error",
          "ename": "NameError",
          "evalue": "name 'Pegawai' is not defined",
          "traceback": [
            "\u001b[0;31m---------------------------------------------------------------------------\u001b[0m",
            "\u001b[0;31mNameError\u001b[0m                                 Traceback (most recent call last)",
            "\u001b[0;32m<ipython-input-1-36626c34e8dd>\u001b[0m in \u001b[0;36m<cell line: 0>\u001b[0;34m()\u001b[0m\n\u001b[1;32m      9\u001b[0m   \u001b[0;32mreturn\u001b[0m \u001b[0mlocale\u001b[0m\u001b[0;34m.\u001b[0m\u001b[0mcurrency\u001b[0m\u001b[0;34m(\u001b[0m\u001b[0mangka\u001b[0m\u001b[0;34m,\u001b[0m \u001b[0mgrouping\u001b[0m\u001b[0;34m=\u001b[0m\u001b[0;32mTrue\u001b[0m\u001b[0;34m,\u001b[0m \u001b[0msymbol\u001b[0m\u001b[0;34m=\u001b[0m\u001b[0;34m'Rp'\u001b[0m\u001b[0;34m)\u001b[0m\u001b[0;34m\u001b[0m\u001b[0;34m\u001b[0m\u001b[0m\n\u001b[1;32m     10\u001b[0m \u001b[0;34m\u001b[0m\u001b[0m\n\u001b[0;32m---> 11\u001b[0;31m \u001b[0;32mclass\u001b[0m \u001b[0mPegawai\u001b[0m \u001b[0;34m:\u001b[0m\u001b[0;34m\u001b[0m\u001b[0;34m\u001b[0m\u001b[0m\n\u001b[0m\u001b[1;32m     12\u001b[0m   \u001b[0;32mdef\u001b[0m \u001b[0m__init__\u001b[0m\u001b[0;34m(\u001b[0m\u001b[0mself\u001b[0m\u001b[0;34m,\u001b[0m \u001b[0mnama\u001b[0m\u001b[0;34m,\u001b[0m \u001b[0mid_pegawai\u001b[0m\u001b[0;34m,\u001b[0m \u001b[0mgaji_pokok\u001b[0m\u001b[0;34m)\u001b[0m\u001b[0;34m:\u001b[0m\u001b[0;34m\u001b[0m\u001b[0;34m\u001b[0m\u001b[0m\n\u001b[1;32m     13\u001b[0m     \u001b[0mself\u001b[0m\u001b[0;34m.\u001b[0m\u001b[0mnama\u001b[0m \u001b[0;34m=\u001b[0m \u001b[0mnama\u001b[0m\u001b[0;34m\u001b[0m\u001b[0;34m\u001b[0m\u001b[0m\n",
            "\u001b[0;32m<ipython-input-1-36626c34e8dd>\u001b[0m in \u001b[0;36mPegawai\u001b[0;34m()\u001b[0m\n\u001b[1;32m     22\u001b[0m     \u001b[0mprint\u001b[0m\u001b[0;34m(\u001b[0m\u001b[0;34mf\"Gaji Pokok: {format_rupiah(self.gaji_pokok)}\"\u001b[0m\u001b[0;34m)\u001b[0m\u001b[0;34m\u001b[0m\u001b[0;34m\u001b[0m\u001b[0m\n\u001b[1;32m     23\u001b[0m \u001b[0;34m\u001b[0m\u001b[0m\n\u001b[0;32m---> 24\u001b[0;31m   \u001b[0;32mclass\u001b[0m \u001b[0mManager\u001b[0m\u001b[0;34m(\u001b[0m\u001b[0mPegawai\u001b[0m\u001b[0;34m)\u001b[0m\u001b[0;34m:\u001b[0m\u001b[0;34m\u001b[0m\u001b[0;34m\u001b[0m\u001b[0m\n\u001b[0m\u001b[1;32m     25\u001b[0m     \u001b[0;32mdef\u001b[0m \u001b[0m__init__\u001b[0m\u001b[0;34m(\u001b[0m\u001b[0mself\u001b[0m\u001b[0;34m,\u001b[0m \u001b[0mnama\u001b[0m\u001b[0;34m,\u001b[0m \u001b[0mid_pegawai\u001b[0m\u001b[0;34m,\u001b[0m \u001b[0mgaji_pokok\u001b[0m\u001b[0;34m,\u001b[0m \u001b[0mtunjangan_jabatan\u001b[0m\u001b[0;34m)\u001b[0m\u001b[0;34m:\u001b[0m\u001b[0;34m\u001b[0m\u001b[0;34m\u001b[0m\u001b[0m\n\u001b[1;32m     26\u001b[0m       \u001b[0msuper\u001b[0m\u001b[0;34m(\u001b[0m\u001b[0;34m)\u001b[0m\u001b[0;34m.\u001b[0m\u001b[0m__init__\u001b[0m\u001b[0;34m(\u001b[0m\u001b[0mnama\u001b[0m\u001b[0;34m,\u001b[0m \u001b[0mid_pegawai\u001b[0m\u001b[0;34m,\u001b[0m \u001b[0mgaji_pokok\u001b[0m\u001b[0;34m)\u001b[0m\u001b[0;34m\u001b[0m\u001b[0;34m\u001b[0m\u001b[0m\n",
            "\u001b[0;31mNameError\u001b[0m: name 'Pegawai' is not defined"
          ]
        }
      ]
    },
    {
      "source": [
        "import locale\n",
        "\n",
        "try:\n",
        "  locale.setlocale(locale.LC_ALL, 'id_ID.UTF-8')\n",
        "except locale.Error:\n",
        "  print(f\"Locale id_ID.UTF-8 tidak tersedia, menggunakan locale default.\")\n",
        "\n",
        "def format_rupiah(angka):\n",
        "    try:\n",
        "        # Try setting Indonesian locale\n",
        "        locale.setlocale(locale.LC_ALL, 'id_ID.UTF-8')\n",
        "        return locale.currency(angka, grouping=True, symbol='Rp')\n",
        "    except locale.Error:\n",
        "        # Fallback formatting if locale is not available\n",
        "        return f\"Rp{angka:,.2f}\".replace(',', 'x').replace('.', ',').replace('x', '.')\n",
        "\n",
        "class Pegawai :\n",
        "  def __init__(self, nama, id_pegawai, gaji_pokok):\n",
        "    self.nama = nama\n",
        "    self.id_pegawai = id_pegawai\n",
        "    self.gaji_pokok = gaji_pokok\n",
        "\n",
        "  def hitung_gaji(self):\n",
        "    return self.gaji_pokok\n",
        "\n",
        "  def tampilkan_info(self):\n",
        "    print(f\"ID: {self.id_pegawai}, Nama: {self.nama}\")\n",
        "    print(f\"Gaji Pokok: {format_rupiah(self.gaji_pokok)}\")\n",
        "\n",
        "# Define Manager outside of Pegawai\n",
        "class Manager(Pegawai): # Moved outside of Pegawai class\n",
        "    def __init__(self, nama, id_pegawai, gaji_pokok, tunjangan_jabatan):\n",
        "      super().__init__(nama, id_pegawai, gaji_pokok)\n",
        "      self.tunjangan_jabatan = tunjangan_jabatan\n",
        "\n",
        "    def hitung_gaji(self):\n",
        "      gaji_total = super().hitung_gaji() + self.tunjangan_jabatan\n",
        "      return gaji_total\n",
        "\n",
        "    def tampilkan_info(self):\n",
        "      super().tampilkan_info()\n",
        "      print (f\"Tunjangan Jabatan: {format_rupiah(self.tunjangan_jabatan)}\")\n",
        "      print (f\"Total Gaji: {format_rupiah(self.hitung_gaji())}\")\n",
        "\n",
        "class StafTeknis(Pegawai):\n",
        "  def __init__(self, nama, id_pegawai, gaji_pokok, keahlian, bonus_keahlian):\n",
        "    super().__init__(nama, id_pegawai, gaji_pokok)\n",
        "    self.keahlian = keahlian\n",
        "    self.bonus_keahlian = bonus_keahlian\n",
        "\n",
        "  def hitung_gaji(self):\n",
        "    gaji_total = super().hitung_gaji() + self.bonus_keahlian\n",
        "    return gaji_total\n",
        "\n",
        "  def tampilkan_info(self):\n",
        "    print(\"---Info Staf Teknis---\")\n",
        "    super().tampilkan_info()\n",
        "    print(f\"Keahlian:{self.keahlian}\")\n",
        "    print(f\"Bonus Keahlian: {format_rupiah(self.bonus_keahlian)}\")\n",
        "    print(f\"Total Gaji: {format_rupiah(self.hitung_gaji())}\")\n",
        "\n",
        "if __name__==\"__main__\":\n",
        "  manager1 = Manager(\"Budi Santoso\", \"M001\", 10000000, 5000000)\n",
        "  staf1 = StafTeknis (\"Citra Lestari\", \"S001\", 7000000, \"Python Programming\", 1500000)\n",
        "  pegawai_baru = Pegawai(\"Rian\", \"P005\", 5000000)\n",
        "\n",
        "  print(\"Menampilkan Informasi Pegawai:\")\n",
        "  manager1.tampilkan_info()\n",
        "  print(\"-\" * 30)\n",
        "  staf1.tampilkan_info()\n",
        "  print(\"-\" * 30)\n",
        "\n",
        "  print(\"---Info Pegawai Baru---\")\n",
        "  pegawai_baru.tampilkan_info()\n",
        "  print(f\"Total Gaji: {format_rupiah(pegawai_baru.hitung_gaji())}\")\n",
        "  print(\"-\" * 30)"
      ],
      "cell_type": "code",
      "metadata": {
        "colab": {
          "base_uri": "https://localhost:8080/"
        },
        "id": "h4E-yiucrXhO",
        "outputId": "955c9ffa-0b66-43fb-e4d4-3af9d690f78a"
      },
      "execution_count": 27,
      "outputs": [
        {
          "output_type": "stream",
          "name": "stdout",
          "text": [
            "Locale id_ID.UTF-8 tidak tersedia, menggunakan locale default.\n",
            "Menampilkan Informasi Pegawai:\n",
            "ID: M001, Nama: Budi Santoso\n",
            "Gaji Pokok: Rp10.000.000,00\n",
            "Tunjangan Jabatan: Rp5.000.000,00\n",
            "Total Gaji: Rp15.000.000,00\n",
            "------------------------------\n",
            "---Info Staf Teknis---\n",
            "ID: S001, Nama: Citra Lestari\n",
            "Gaji Pokok: Rp7.000.000,00\n",
            "Keahlian:Python Programming\n",
            "Bonus Keahlian: Rp1.500.000,00\n",
            "Total Gaji: Rp8.500.000,00\n",
            "------------------------------\n",
            "---Info Pegawai Baru---\n",
            "ID: P005, Nama: Rian\n",
            "Gaji Pokok: Rp5.000.000,00\n",
            "Total Gaji: Rp5.000.000,00\n",
            "------------------------------\n"
          ]
        }
      ]
    },
    {
      "cell_type": "code",
      "source": [
        "class BentukGeometri:\n",
        "  def __init__(self,nama_bentuk):\n",
        "    self.nama = nama_bentuk\n",
        "\n",
        "  def tampilkan_nama(self):\n",
        "    print(f\"Ini adalah bentuk: {self.nama}\")\n",
        "\n",
        "  def hitung_luas(self):\n",
        "    print(f\"Luas {self.nama} tidak dapat dihitung (generik).\")\n",
        "\n",
        "class PersegiPanjang(BentukGeometri):\n",
        "  def __init__(self, panjang, lebar):\n",
        "    super().__init__(\"Persegi Panjang\")\n",
        "    self.panjang = panjang\n",
        "    self.lebar = lebar\n",
        "\n",
        "  def hitung_luas(self):\n",
        "    luas = self.panjang * self.lebar\n",
        "    print(f\"Luas {self.nama}: {luas}\")\n",
        "\n",
        "class Segitiga(BentukGeometri):\n",
        "  def __init__(self, alas, tinggi):\n",
        "    super().__init__(\"Segitiga\")\n",
        "    self.alas = alas\n",
        "    self.tinggi = tinggi\n",
        "  def hitung_luas(self):\n",
        "    luas = 0.5 * self.alas * self.tinggi\n",
        "    print(f\"Luas {self.nama}: {luas}\")\n",
        "\n",
        "def proses_bentuk(bentuk):\n",
        "  print(f\"\\nMemproses objek: {type(bentuk)}\")\n",
        "\n",
        "  if isinstance(bentuk, BentukGeometri):\n",
        "    bentuk.tampilkan_nama()\n",
        "    print(\"Objek ini adalah instance dari BentukGeometri (atau turunannya).\")\n",
        "\n",
        "    if isinstance(bentuk, PersegiPanjang):\n",
        "      print(\"-> Objek ini juga istance dari PersegiPanjang.\")\n",
        "    elif isinstance(bentuk,Segitiga):\n",
        "      print(\"-> Objek ini juga istance dari Segitiga.\")\n",
        "  else:\n",
        "      print(\"Objek ini bukan instance dari BentukGeometri.\")\n",
        "\n",
        "  if isinstance(bentuk, str):\n",
        "    print(\"Objek ini adalah string.\")\n",
        "\n",
        "\n",
        "if __name__==\"__main__\":\n",
        "  pp = PersegiPanjang(4,3)\n",
        "  seg = Segitiga(5, 2)\n",
        "  bg = BentukGeometri(\"Lingkaran\")\n",
        "  teks = \"Ini string\"\n",
        "\n",
        "  daftar_objek = [pp, seg, bg, teks]\n",
        "\n",
        "  for obj in daftar_objek:\n",
        "    proses_bentuk(obj)\n"
      ],
      "metadata": {
        "colab": {
          "base_uri": "https://localhost:8080/"
        },
        "id": "Wsp1u4fbsy3q",
        "outputId": "9eee062d-9823-43a9-8c51-e96eeb941dce"
      },
      "execution_count": 4,
      "outputs": [
        {
          "output_type": "stream",
          "name": "stdout",
          "text": [
            "\n",
            "Memproses objek: <class '__main__.PersegiPanjang'>\n",
            "Ini adalah bentuk: Persegi Panjang\n",
            "Objek ini adalah instance dari BentukGeometri (atau turunannya).\n",
            "-> Objek ini juga istance dari PersegiPanjang.\n",
            "\n",
            "Memproses objek: <class '__main__.Segitiga'>\n",
            "Ini adalah bentuk: Segitiga\n",
            "Objek ini adalah instance dari BentukGeometri (atau turunannya).\n",
            "-> Objek ini juga istance dari Segitiga.\n",
            "\n",
            "Memproses objek: <class '__main__.BentukGeometri'>\n",
            "Ini adalah bentuk: Lingkaran\n",
            "Objek ini adalah instance dari BentukGeometri (atau turunannya).\n",
            "\n",
            "Memproses objek: <class 'str'>\n",
            "Objek ini bukan instance dari BentukGeometri.\n",
            "Objek ini adalah string.\n"
          ]
        }
      ]
    }
  ]
}